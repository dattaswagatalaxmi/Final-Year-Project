{
 "cells": [
  {
   "cell_type": "code",
   "execution_count": 1,
   "id": "8490cae5-43b6-44b4-888b-2da9ccf0bbd1",
   "metadata": {},
   "outputs": [],
   "source": [
    "import pandas as pd"
   ]
  },
  {
   "cell_type": "code",
   "execution_count": 16,
   "id": "1414a382-3e3d-4dfa-9035-294e8d9e28cb",
   "metadata": {},
   "outputs": [],
   "source": [
    "# Read the Excel file\n",
    "df = pd.read_excel(r\"D:\\JNWORK\\Sheet1.xlsx\")\n",
    "\n",
    "# Define a function to calculate percentage of each element in a sequence\n",
    "def calculate_percentage(sequence):\n",
    "    sequence = str(sequence)  # Convert to string to handle non-string values\n",
    "    c_count = sequence.count('C')\n",
    "    h_count = sequence.count('H')\n",
    "    e_count = sequence.count('E')\n",
    "    total_count = len(sequence)\n",
    "    \n",
    "    # If any element is missing, set its percentage to 0\n",
    "    if total_count == 0:\n",
    "        return 0, 0, 0\n",
    "    else:\n",
    "        return (c_count / total_count) * 100, (h_count / total_count) * 100, (e_count / total_count) * 100\n",
    "\n",
    "# Apply the function to each sequence in column 'A' and create new columns for percentages\n",
    "df[['C%', 'H%', 'E%']] = df['A'].apply(lambda x: pd.Series(calculate_percentage(x)))\n",
    "\n",
    "# Save the modified DataFrame back to the Excel file\n",
    "df.to_excel('yourfir_file.xlsx', index=False)\n",
    "\n"
   ]
  },
  {
   "cell_type": "code",
   "execution_count": 6,
   "id": "fb0219ee-dc91-4dcd-9d8f-e2a501e642f6",
   "metadata": {},
   "outputs": [
    {
     "name": "stdout",
     "output_type": "stream",
     "text": [
      "Lines starting with '>DRAMP' removed successfully!\n"
     ]
    }
   ],
   "source": [
    "def remove_dramp(input_file, output_file):\n",
    "    with open(input_file, 'r') as f_in:\n",
    "        with open(output_file, 'w') as f_out:\n",
    "            for line in f_in:\n",
    "                if not line.startswith('>DRAMP'):\n",
    "                    f_out.write(line)\n",
    "\n",
    "input_file = r\"D:\\JNWORK\\batch_4.fasta\"  # Replace 'input_file.txt' with the path to your input text file\n",
    "output_file = r\"D:\\JNWORK\\test4.txt\"  # Replace 'output_file.txt' with the desired output file path\n",
    "\n",
    "remove_dramp(input_file, output_file)\n",
    "\n",
    "print(\"Lines starting with '>DRAMP' removed successfully!\")"
   ]
  },
  {
   "cell_type": "code",
   "execution_count": null,
   "id": "c355b2e2-bc2b-4e78-9658-1c07f8cc6c19",
   "metadata": {},
   "outputs": [],
   "source": []
  }
 ],
 "metadata": {
  "kernelspec": {
   "display_name": "Python 3 (ipykernel)",
   "language": "python",
   "name": "python3"
  },
  "language_info": {
   "codemirror_mode": {
    "name": "ipython",
    "version": 3
   },
   "file_extension": ".py",
   "mimetype": "text/x-python",
   "name": "python",
   "nbconvert_exporter": "python",
   "pygments_lexer": "ipython3",
   "version": "3.12.3"
  }
 },
 "nbformat": 4,
 "nbformat_minor": 5
}
