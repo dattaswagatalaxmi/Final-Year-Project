{
 "cells": [
  {
   "cell_type": "code",
   "execution_count": 1,
   "id": "8490cae5-43b6-44b4-888b-2da9ccf0bbd1",
   "metadata": {},
   "outputs": [],
   "source": [
    "import pandas as pd"
   ]
  },
  {
   "cell_type": "code",
   "execution_count": 16,
   "id": "1414a382-3e3d-4dfa-9035-294e8d9e28cb",
   "metadata": {},
   "outputs": [],
   "source": [
    "# Read the Excel file\n",
    "df = pd.read_excel(r\"D:\\JNWORK\\Sheet1.xlsx\")\n",
    "\n",
    "# Define a function to calculate percentage of each element in a sequence\n",
    "def calculate_percentage(sequence):\n",
    "    sequence = str(sequence)  # Convert to string to handle non-string values\n",
    "    c_count = sequence.count('C')\n",
    "    h_count = sequence.count('H')\n",
    "    e_count = sequence.count('E')\n",
    "    total_count = len(sequence)\n",
    "    \n",
    "    # If any element is missing, set its percentage to 0\n",
    "    if total_count == 0:\n",
    "        return 0, 0, 0\n",
    "    else:\n",
    "        return (c_count / total_count) * 100, (h_count / total_count) * 100, (e_count / total_count) * 100\n",
    "\n",
    "# Apply the function to each sequence in column 'A' and create new columns for percentages\n",
    "df[['C%', 'H%', 'E%']] = df['A'].apply(lambda x: pd.Series(calculate_percentage(x)))\n",
    "\n",
    "# Save the modified DataFrame back to the Excel file\n",
    "df.to_excel('yourfir_file.xlsx', index=False)\n",
    "\n"
   ]
  },
  {
   "cell_type": "code",
   "execution_count": null,
   "id": "c355b2e2-bc2b-4e78-9658-1c07f8cc6c19",
   "metadata": {},
   "outputs": [],
   "source": []
  }
 ],
 "metadata": {
  "kernelspec": {
   "display_name": "Python 3 (ipykernel)",
   "language": "python",
   "name": "python3"
  },
  "language_info": {
   "codemirror_mode": {
    "name": "ipython",
    "version": 3
   },
   "file_extension": ".py",
   "mimetype": "text/x-python",
   "name": "python",
   "nbconvert_exporter": "python",
   "pygments_lexer": "ipython3",
   "version": "3.12.3"
  }
 },
 "nbformat": 4,
 "nbformat_minor": 5
}
